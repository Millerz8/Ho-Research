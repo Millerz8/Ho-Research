{
 "cells": [
  {
   "cell_type": "code",
   "execution_count": 1,
   "metadata": {},
   "outputs": [],
   "source": [
    "# importing everything and setting up client\n",
    "\n",
    "import os\n",
    "import openai\n",
    "from openai import OpenAI\n",
    "import pandas as pd\n",
    "import matplotlib.pyplot as plt\n",
    "import random\n",
    "import numpy as np\n",
    "\n",
    "client = OpenAI(api_key=os.getenv(\"OPENAI_API_KEY\"))"
   ]
  },
  {
   "cell_type": "code",
   "execution_count": 11,
   "metadata": {},
   "outputs": [],
   "source": [
    "def GreenDelay(client, delayed_reward, immediate_reward, length_of_delay, age = None):\n",
    "\n",
    "    prompt = f\"\"\"\n",
    "\n",
    "    You can have A: {immediate_reward} now or B: {delayed_reward} in {length_of_delay}. Just respond with A or B and don't explain your answe.\n",
    "\n",
    "    \"\"\"\n",
    "\n",
    "\n",
    "    completion = client.chat.completions.create(\n",
    "        model=\"gpt-4o-mini\",\n",
    "        messages=[{\"role\": \"user\", \"content\": prompt}]\n",
    "    )\n",
    "\n",
    "    return completion.choices[0].message.content"
   ]
  },
  {
   "cell_type": "code",
   "execution_count": 15,
   "metadata": {},
   "outputs": [
    {
     "name": "stdout",
     "output_type": "stream",
     "text": [
      "[  0.1          3.54482759   6.98965517  10.43448276  13.87931034\n",
      "  17.32413793  20.76896552  24.2137931   27.65862069  31.10344828\n",
      "  34.54827586  37.99310345  41.43793103  44.88275862  48.32758621\n",
      "  51.77241379  55.21724138  58.66206897  62.10689655  65.55172414\n",
      "  68.99655172  72.44137931  75.8862069   79.33103448  82.77586207\n",
      "  86.22068966  89.66551724  93.11034483  96.55517241 100.        ]\n",
      "1 Week\n",
      "B\n",
      "1 Month\n",
      "B\n",
      "6 Months\n",
      "B\n",
      "1 Year\n",
      "B\n",
      "3 Years\n",
      "B\n",
      "5 Years\n",
      "A\n",
      "10 Years\n",
      "A\n",
      "25 Years\n",
      "A\n"
     ]
    }
   ],
   "source": [
    "# Set up the simulations\n",
    "\n",
    "fixed_reward = 10000\n",
    "immidiate_rewards = np.linspace(0.1, 100, 30)\n",
    "print(immidiate_rewards)\n",
    "lengths = [\"1 Week\", \"1 Month\", \"6 Months\", \"1 Year\", \"3 Years\", \"5 Years\", \"10 Years\", \"25 Years\"]\n",
    "for time in lengths:\n",
    "    response = GreenDelay(client = client, delayed_reward = fixed_reward, immediate_reward = immidiate_reward, length_of_delay= time)\n",
    "    print(time)\n",
    "    print(response)\n",
    "\n"
   ]
  }
 ],
 "metadata": {
  "kernelspec": {
   "display_name": "base",
   "language": "python",
   "name": "python3"
  },
  "language_info": {
   "codemirror_mode": {
    "name": "ipython",
    "version": 3
   },
   "file_extension": ".py",
   "mimetype": "text/x-python",
   "name": "python",
   "nbconvert_exporter": "python",
   "pygments_lexer": "ipython3",
   "version": "3.12.2"
  },
  "orig_nbformat": 4
 },
 "nbformat": 4,
 "nbformat_minor": 2
}
